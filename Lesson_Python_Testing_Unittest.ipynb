{
 "cells": [
  {
   "cell_type": "markdown",
   "id": "9e6d1a89",
   "metadata": {},
   "source": [
    "# Automated tests and test suites\n",
    "\n",
    "> Automated testing is the act of writing a piece of software to test an orinal piece of software\n",
    "\n",
    "**Concepts**\n",
    "- Divide and Conquer \n",
    "- Single Responsibility -> `SOLID`\n",
    "\n",
    "**Small Isolated programs** -> `Test Case`\n",
    "\n",
    "> A test case is just a class that inherits `unittest.TestCase`.\n"
   ]
  },
  {
   "cell_type": "code",
   "execution_count": null,
   "id": "74c6968c",
   "metadata": {},
   "outputs": [],
   "source": [
    "def add_two_numbers(x, y):\n",
    "    result = x + y # calculates the addition\n",
    "    return result"
   ]
  },
  {
   "cell_type": "markdown",
   "id": "605efa70",
   "metadata": {},
   "source": [
    "## Unittest\n",
    "- Python has the module `unittest`, which is built-in.\n",
    "- The third-party module called `Pytest`.\n",
    "- The `unittest` module provides an object oriented interface which follows the concepts of OOP\n",
    "- The module provides the class called `TestCase`, which should be inherited to create a `test case`.\n",
    "- The module provides methods that can be used to do assertions.\n",
    "- The naming convention of these methods follows the Java naming convention."
   ]
  },
  {
   "cell_type": "markdown",
   "id": "71cd8ef3",
   "metadata": {},
   "source": [
    "### Test runner\n",
    "- The unittest `Test Runner` is responsible for discoring all your tests.\n",
    "- The runner works in two ways\n",
    "    - `Discovery phase`: Detect all test cases(classes that inherit the `TestCase`).In this test cases, it looks at the methods starting with `test`.\n",
    "        - Your test folders should have the `__init__.py` file, so that the test runner will detect the folder as a module.\n",
    "    - `Run phase`: Here, the runner runs all tests discovered during the discovery phase.\n",
    "    \n",
    "- The test runner is started with the `unittest.main()`.\n",
    "\n",
    "### Different status of our tests\n",
    "- `Passed` -> `.`\n",
    "- `Failure` -> `F` -> `AssertionError`\n",
    "- `Error` -> `E`. -> Other exceptions"
   ]
  },
  {
   "cell_type": "markdown",
   "id": "749527e8",
   "metadata": {},
   "source": [
    "### Organizing tests\n",
    "- Test packages or folders should have `__init__.py`.\n",
    "- Test modules or `.py` files should start with `test`\n",
    "- Classes should inherit the `TestCase`.\n",
    "- The test case methods should start with `test`.\n",
    "\n",
    "```\n",
    ".\n",
    "├── __init__.py\n",
    "├── src\n",
    "└── tests\n",
    "    ├── __init__.py\n",
    "    └── test.py\n",
    "```"
   ]
  },
  {
   "cell_type": "markdown",
   "id": "24dee8d1",
   "metadata": {},
   "source": [
    "#### How to run test\n",
    "\n",
    "##### Commands\n",
    "- `python -m unittest`: Runs all test that the runner can discover\n",
    "- `python -m unittest <module>.py`, `python <module>.py`: Run all tests in a specific module.\n",
    "- `python -m unittest discover <package>`\n",
    "\n",
    "\n",
    "##### Options\n",
    "- `-v`: Run test with verbosity. This means it provide extra information about the test.\n",
    "- `-k`: Run all tests matching a specific name"
   ]
  },
  {
   "cell_type": "markdown",
   "id": "8f6bdb33",
   "metadata": {},
   "source": [
    "## Introduction to TDD and unit tests\n",
    "\n",
    "### Unit test\n",
    "> Unit test is a method in the test case, that tests a single unit of logic.\n",
    "\n",
    "### What is a unit in unit test\n",
    "- `Method`, `Function`\n",
    "    - Then each method of a class or function is considered a unit.\n",
    "    \n",
    "- `Scenarios`\n",
    "    - Then, a use case of a method or function will represent a unit\n",
    "    \n",
    "    "
   ]
  },
  {
   "cell_type": "code",
   "execution_count": null,
   "id": "be3b9a40",
   "metadata": {},
   "outputs": [],
   "source": [
    "def add(x, y):\n",
    "    return x + y\n",
    "\n",
    "# Test that adding two numbers will give the right result\n",
    "add(3,4)\n",
    "# Test that adding wrong inputs is going to raise exceptions\n",
    "add(4, '5')\n",
    "\n",
    "add()"
   ]
  },
  {
   "cell_type": "markdown",
   "id": "a9dbba15",
   "metadata": {},
   "source": [
    "## Structure of unit\n",
    "- We have specific structure that can make your test maintainable and clear.\n",
    "    - `Arrange`: Prepare any state that will be needed for testing. Initializing variables, instantiating classes.\n",
    "    - `Act`: Call and run the peice of code that should be tested.\n",
    "    - `Assert`: We verify if the peice of code produced expected results"
   ]
  },
  {
   "cell_type": "code",
   "execution_count": 3,
   "id": "48dbbf29",
   "metadata": {},
   "outputs": [
    {
     "data": {
      "text/plain": [
       "0"
      ]
     },
     "execution_count": 3,
     "metadata": {},
     "output_type": "execute_result"
    }
   ],
   "source": [
    "x = tuple()\n",
    "sum(x)"
   ]
  },
  {
   "cell_type": "code",
   "execution_count": 5,
   "id": "b94daad2",
   "metadata": {},
   "outputs": [
    {
     "ename": "TypeError",
     "evalue": "unsupported operand type(s) for +: 'int' and 'tuple'",
     "output_type": "error",
     "traceback": [
      "\u001b[0;31m---------------------------------------------------------------------------\u001b[0m",
      "\u001b[0;31mTypeError\u001b[0m                                 Traceback (most recent call last)",
      "Cell \u001b[0;32mIn[5], line 1\u001b[0m\n\u001b[0;32m----> 1\u001b[0m \u001b[38;5;28msum\u001b[39m([(\u001b[38;5;241m4\u001b[39m,\u001b[38;5;241m5\u001b[39m), (\u001b[38;5;241m6\u001b[39m,\u001b[38;5;241m7\u001b[39m)])\n",
      "\u001b[0;31mTypeError\u001b[0m: unsupported operand type(s) for +: 'int' and 'tuple'"
     ]
    }
   ],
   "source": [
    "sum([(4,5), (6,7)])"
   ]
  },
  {
   "cell_type": "markdown",
   "id": "2eceba36",
   "metadata": {},
   "source": [
    "## TDD\n",
    "\n",
    "> We write the test before the code"
   ]
  },
  {
   "cell_type": "code",
   "execution_count": 6,
   "id": "767c721f",
   "metadata": {},
   "outputs": [
    {
     "data": {
      "text/plain": [
       "3.141592653589793"
      ]
     },
     "execution_count": 6,
     "metadata": {},
     "output_type": "execute_result"
    }
   ],
   "source": [
    "import math\n",
    "math.pi"
   ]
  },
  {
   "cell_type": "markdown",
   "id": "c3407f63",
   "metadata": {},
   "source": [
    "## setUp and tearDown\n",
    "- If you have opeations that are common for all unit, then you can put them in the `setUp`.\n",
    "- If you want to do some clean up after every unit, then put them in the tearDown."
   ]
  },
  {
   "cell_type": "code",
   "execution_count": null,
   "id": "114f31cf",
   "metadata": {},
   "outputs": [],
   "source": []
  }
 ],
 "metadata": {
  "kernelspec": {
   "display_name": "Python 3 (ipykernel)",
   "language": "python",
   "name": "python3"
  },
  "language_info": {
   "codemirror_mode": {
    "name": "ipython",
    "version": 3
   },
   "file_extension": ".py",
   "mimetype": "text/x-python",
   "name": "python",
   "nbconvert_exporter": "python",
   "pygments_lexer": "ipython3",
   "version": "3.11.5"
  }
 },
 "nbformat": 4,
 "nbformat_minor": 5
}
