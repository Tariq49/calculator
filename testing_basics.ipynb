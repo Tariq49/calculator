{
 "cells": [
  {
   "cell_type": "markdown",
   "id": "4b4b8ce3",
   "metadata": {},
   "source": [
    "## Quotes on programming errors \n",
    "\n",
    "> Software is written by humans and therefore has bugs\n",
    "\n",
    "\n",
    "> Program testing can be used to show the precence of bugs, but never to show their absence\n",
    "\n",
    "\n",
    "> Never allow the same bug to bit you twice\n",
    "\n",
    "\n",
    "> Don't wait until you have a bug to step through your code\n",
    "\n",
    "> Wnen you spend time to find and fix all the bugs in your project, you can't complete the project in your life time."
   ]
  },
  {
   "cell_type": "markdown",
   "id": "59077980",
   "metadata": {},
   "source": [
    "## Manual Testing\n",
    "\n",
    "### Test Plan\n",
    "- `Precondition`: What is neccessary to verify the new feature.  At what state does the application need to be before testing.\n",
    "- `Steps`: What are the actions that need to succeed for this feature to be OK.\n",
    "- `Postcondition`: What is the expected state of the system at the end of the steps above.\n",
    "\n",
    "#### Change Password\n",
    "\n",
    "##### Precodition\n",
    "- A user, `user1` exist\n",
    "- The user `user1`, is logged in to the system.\n",
    "- The user is his profile page.\n",
    "\n",
    "##### Steps\n",
    "The steps is grouped in the following: `Action`, `Expected Result`, `success/fail`\n",
    "\n",
    "|Action         |Expected Result.       |Success/Fail|\n",
    "|:---------------|:-----------------------|:------------|\n",
    "|Click on the change password button  | The system shows a dialog to insert the new password | success |\n",
    "|Enter new password, `hello2024`      | The dialog shows 10 asterisks in the password input box | success|\n",
    "|Click OK button    | The system shows a diaglog with a success message. |success|\n",
    "|Wait for 2 seconds.  |The success dialog box disappears       |success|\n",
    "\n",
    "##### Postcodition\n",
    "- The user `user1` password is now `hello2024`"
   ]
  },
  {
   "cell_type": "code",
   "execution_count": 1,
   "id": "1d305fb0",
   "metadata": {},
   "outputs": [],
   "source": [
    "def add_two_numbers(x, y):\n",
    "    return x + y"
   ]
  },
  {
   "cell_type": "code",
   "execution_count": null,
   "id": "87588ba3",
   "metadata": {},
   "outputs": [],
   "source": [
    "# Write test for the above function."
   ]
  },
  {
   "cell_type": "code",
   "execution_count": null,
   "id": "ae597eb0",
   "metadata": {},
   "outputs": [],
   "source": [
    "# Write test first\n",
    "\n",
    "# code the function."
   ]
  },
  {
   "cell_type": "code",
   "execution_count": null,
   "id": "5df72fac",
   "metadata": {},
   "outputs": [],
   "source": [
    "# Write a feature that multiply two numbers.\n",
    "\n",
    "def test_multiply_two_numbers():\n",
    "    x = 4\n",
    "    y = 8\n",
    "    result = multiply_two_numbers(x, y)\n",
    "    \n",
    "    result == 32 "
   ]
  },
  {
   "cell_type": "code",
   "execution_count": 2,
   "id": "6249ec48",
   "metadata": {},
   "outputs": [],
   "source": [
    "import operator\n",
    "def multiply_two_numbers(x, y):\n",
    "    return operator.mul(x, y)"
   ]
  },
  {
   "cell_type": "code",
   "execution_count": 3,
   "id": "aa813ccc",
   "metadata": {},
   "outputs": [
    {
     "data": {
      "text/plain": [
       "['__abs__',\n",
       " '__add__',\n",
       " '__all__',\n",
       " '__and__',\n",
       " '__builtins__',\n",
       " '__cached__',\n",
       " '__call__',\n",
       " '__concat__',\n",
       " '__contains__',\n",
       " '__delitem__',\n",
       " '__doc__',\n",
       " '__eq__',\n",
       " '__file__',\n",
       " '__floordiv__',\n",
       " '__ge__',\n",
       " '__getitem__',\n",
       " '__gt__',\n",
       " '__iadd__',\n",
       " '__iand__',\n",
       " '__iconcat__',\n",
       " '__ifloordiv__',\n",
       " '__ilshift__',\n",
       " '__imatmul__',\n",
       " '__imod__',\n",
       " '__imul__',\n",
       " '__index__',\n",
       " '__inv__',\n",
       " '__invert__',\n",
       " '__ior__',\n",
       " '__ipow__',\n",
       " '__irshift__',\n",
       " '__isub__',\n",
       " '__itruediv__',\n",
       " '__ixor__',\n",
       " '__le__',\n",
       " '__loader__',\n",
       " '__lshift__',\n",
       " '__lt__',\n",
       " '__matmul__',\n",
       " '__mod__',\n",
       " '__mul__',\n",
       " '__name__',\n",
       " '__ne__',\n",
       " '__neg__',\n",
       " '__not__',\n",
       " '__or__',\n",
       " '__package__',\n",
       " '__pos__',\n",
       " '__pow__',\n",
       " '__rshift__',\n",
       " '__setitem__',\n",
       " '__spec__',\n",
       " '__sub__',\n",
       " '__truediv__',\n",
       " '__xor__',\n",
       " '_abs',\n",
       " 'abs',\n",
       " 'add',\n",
       " 'and_',\n",
       " 'attrgetter',\n",
       " 'call',\n",
       " 'concat',\n",
       " 'contains',\n",
       " 'countOf',\n",
       " 'delitem',\n",
       " 'eq',\n",
       " 'floordiv',\n",
       " 'ge',\n",
       " 'getitem',\n",
       " 'gt',\n",
       " 'iadd',\n",
       " 'iand',\n",
       " 'iconcat',\n",
       " 'ifloordiv',\n",
       " 'ilshift',\n",
       " 'imatmul',\n",
       " 'imod',\n",
       " 'imul',\n",
       " 'index',\n",
       " 'indexOf',\n",
       " 'inv',\n",
       " 'invert',\n",
       " 'ior',\n",
       " 'ipow',\n",
       " 'irshift',\n",
       " 'is_',\n",
       " 'is_not',\n",
       " 'isub',\n",
       " 'itemgetter',\n",
       " 'itruediv',\n",
       " 'ixor',\n",
       " 'le',\n",
       " 'length_hint',\n",
       " 'lshift',\n",
       " 'lt',\n",
       " 'matmul',\n",
       " 'methodcaller',\n",
       " 'mod',\n",
       " 'mul',\n",
       " 'ne',\n",
       " 'neg',\n",
       " 'not_',\n",
       " 'or_',\n",
       " 'pos',\n",
       " 'pow',\n",
       " 'rshift',\n",
       " 'setitem',\n",
       " 'sub',\n",
       " 'truediv',\n",
       " 'truth',\n",
       " 'xor']"
      ]
     },
     "execution_count": 3,
     "metadata": {},
     "output_type": "execute_result"
    }
   ],
   "source": []
  },
  {
   "cell_type": "code",
   "execution_count": null,
   "id": "bb3ef1e5",
   "metadata": {},
   "outputs": [],
   "source": [
    "multiply_two_numbers(3, '5')"
   ]
  },
  {
   "cell_type": "markdown",
   "id": "64fecffb",
   "metadata": {},
   "source": [
    "## Login System\n",
    "- Authentication\n",
    "- Authorization"
   ]
  }
 ],
 "metadata": {
  "kernelspec": {
   "display_name": "Python 3 (ipykernel)",
   "language": "python",
   "name": "python3"
  },
  "language_info": {
   "codemirror_mode": {
    "name": "ipython",
    "version": 3
   },
   "file_extension": ".py",
   "mimetype": "text/x-python",
   "name": "python",
   "nbconvert_exporter": "python",
   "pygments_lexer": "ipython3",
   "version": "3.11.5"
  }
 },
 "nbformat": 4,
 "nbformat_minor": 5
}
