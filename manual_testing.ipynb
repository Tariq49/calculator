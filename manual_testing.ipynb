{
 "cells": [
  {
   "cell_type": "markdown",
   "metadata": {},
   "source": [
    "# Manual Testing \n",
    "### Test Plan\n",
    "\n",
    "- `Precondition`: What is necessary to verify the new feature. At what state does the application need to be before testing.\n",
    "- `steps`: What are the actions that need to succeed for this feature to be OK.\n",
    "- `Postcondition`: What is the expected state of the system at the end of the steps above.\n",
    "\n",
    "\n",
    "\n",
    "\n",
    "\n",
    "\n",
    "##### Steps\n",
    "- The steps is grouped in the following: `Action`, `Expected Result`, `success/fail`. \n",
    "\n",
    "|Action                 |Expected Result                    |Success/Fail\n",
    "|:-----------------------:|:-----------------------------------:|:-------------:|\n",
    "Click on the change password| The system shows a dialogue to insert the new password|  Success\n",
    "Enter the new password. `hello2024`. |THe dialogue shows 10 asteriks in the password input box.| success\n",
    "Click OK button| The system shows dialogue with a success message| success\n",
    "Wait for 2 seconds| The success dialogue box disappears| success\n",
    "\n",
    "#### Postcondition \n",
    "\n",
    "- The `user1` password is now `hello2024`\n",
    "\n"
   ]
  },
  {
   "cell_type": "code",
   "execution_count": 3,
   "metadata": {},
   "outputs": [],
   "source": [
    "def add_two_numbers(x, y):\n",
    "    return x + y \n",
    "\n",
    "# write test for the above function.\n",
    "#Write test first\n",
    "#code function \n",
    "\n",
    "# write feature that multiply two numbers.\n"
   ]
  },
  {
   "cell_type": "code",
   "execution_count": 5,
   "metadata": {},
   "outputs": [],
   "source": [
    "def test_multiply_two_numbers():\n",
    "    x = 4\n",
    "    y= 8\n",
    "    result = test_multiply_two_numbers(x, y)\n",
    "\n",
    "    result == 32 \n",
    "\n"
   ]
  },
  {
   "cell_type": "code",
   "execution_count": 2,
   "metadata": {},
   "outputs": [],
   "source": [
    "import operator\n",
    "def multiply_two_numbers(x, y):\n",
    "    return operator.mul(x, y) "
   ]
  },
  {
   "cell_type": "code",
   "execution_count": null,
   "metadata": {},
   "outputs": [],
   "source": [
    "multiply_two_numbers(3, '5') "
   ]
  },
  {
   "cell_type": "markdown",
   "metadata": {},
   "source": [
    "## Login System\n",
    "- Authentication\n",
    "- Authorization "
   ]
  }
 ],
 "metadata": {
  "kernelspec": {
   "display_name": "base",
   "language": "python",
   "name": "python3"
  },
  "language_info": {
   "codemirror_mode": {
    "name": "ipython",
    "version": 3
   },
   "file_extension": ".py",
   "mimetype": "text/x-python",
   "name": "python",
   "nbconvert_exporter": "python",
   "pygments_lexer": "ipython3",
   "version": "3.11.5"
  }
 },
 "nbformat": 4,
 "nbformat_minor": 2
}
